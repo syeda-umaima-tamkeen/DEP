{
  "cells": [
    {
      "cell_type": "markdown",
      "source": [
        "# **PROJECT BY: SYEDA UMAIMA TAMKEEN**\n",
        "\n",
        "# **Project Title :** Image Classification Using Convolutional Neural Networks (CNN)\n",
        "# **Summary:**\n",
        "In this project, I developed a deep learning model using a Convolutional Neural Network (CNN) to classify images into different categories from the CIFAR-10 dataset. The objective was to accurately categorize images into 10 predefined classes, such as airplanes, cats, cars, and more. Data augmentation and preprocessing techniques were applied to improve model performance. After training and fine-tuning the CNN model, it achieved high accuracy, demonstrating the effectiveness of CNNs for image classification tasks.\n",
        "\n",
        "# **Key Steps:**\n",
        "\n",
        "**1. Data Exploration:**\n",
        "Loaded the CIFAR-10 dataset consisting of 60,000 32x32 color images across 10 categories.\n",
        "Visualized sample images from the dataset to gain insights into the variety and distribution of images across classes.\n",
        "Analyzed class labels and checked for dataset balance to ensure equal representation across categories.\n",
        "\n",
        "**2. Data Preprocessing and Augmentation:**\n",
        "Normalization: Normalized the pixel values of images by scaling them between 0 and 1 for better convergence during training.\n",
        "Data Augmentation: Applied data augmentation techniques like rotation, width/height shifting, and horizontal flipping to artificially increase the dataset size and help prevent overfitting.\n",
        "\n",
        "**3. Building the Convolutional Neural Network (CNN):**\n",
        "Designed a CNN architecture with multiple layers:\n",
        "Three convolutional layers with ReLU activation and MaxPooling for feature extraction.\n",
        "A fully connected layer followed by a Dropout layer to prevent overfitting.\n",
        "Final output layer with 10 units corresponding to the 10 classes in CIFAR-10.\n",
        "\n",
        "**4. Model Training:**\n",
        "Compiled the CNN model using the Adam optimizer and Sparse Categorical Crossentropy as the loss function due to the multi-class classification task.\n",
        "Split the dataset into training and test sets (80/20 split).\n",
        "Trained the model for 15 epochs with batch size of 64, using data augmentation to improve generalization.\n",
        "\n",
        "**5. Model Evaluation:**\n",
        "Evaluated the model’s performance using metrics such as accuracy, precision, recall, and the confusion matrix.\n",
        "The CNN model achieved the following performance metrics:\n",
        "Accuracy: 82.3%\n",
        "Precision, Recall, and F1-Scores across different classes, showing strong performance across most categories.\n",
        "Visualized the training and validation accuracy over epochs, identifying that the model showed steady improvements.\n",
        "\n",
        "**6. Model Fine-Tuning:**\n",
        "Applied Dropout (0.5) during training to handle overfitting and regularization.\n",
        "Further fine-tuned the model by applying Early Stopping to halt training when validation performance plateaued.\n",
        "Fine-tuned hyperparameters like learning rate and the number of convolutional filters to optimize performance.\n",
        "\n",
        "# **Results:**\n",
        "**Model Evaluation Metrics (CNN):**\n",
        "\n",
        "* Accuracy: 82.3%\n",
        "\n",
        "* Validation Accuracy: 79.6%\n",
        "\n",
        "* Loss: Lower validation loss after regularization and early stopping.\n",
        "\n",
        "* Precision (across 10 categories): High precision for majority classes like airplane, cat, and ship.\n",
        "\n",
        "* Best Model Hyperparameters (after tuning):\n",
        "\n",
        "* Number of Epochs: 15\n",
        "\n",
        "* Batch Size: 64\n",
        "\n",
        "* Optimizer: Adam with learning rate adjustments.\n",
        "\n",
        "* Dropout Rate: 0.5 to reduce overfitting.\n",
        "\n",
        "\n",
        "\n",
        "\n",
        "# **Conclusion:**\n",
        "The Convolutional Neural Network (CNN) performed well on the CIFAR-10 dataset, achieving an accuracy of 82.3%. The model effectively distinguished between different categories of images, with solid precision and recall across most classes. Data augmentation and regularization techniques like Dropout helped in generalizing the model to unseen data. Future iterations could explore deeper architectures, hyperparameter tuning, and applying techniques like Transfer Learning to further improve accuracy. This project demonstrates the power of CNNs in solving image classification tasks and provides a foundation for further exploration in computer vision.\n",
        "\n"
      ],
      "metadata": {
        "id": "F02jU_i1Ey_N"
      }
    },
    {
      "cell_type": "markdown",
      "source": [
        "# Import libraries"
      ],
      "metadata": {
        "id": "j0dwY8l_GrFP"
      }
    },
    {
      "cell_type": "code",
      "source": [
        "import tensorflow as tf\n",
        "from tensorflow.keras import datasets, layers, models\n",
        "from tensorflow.keras.preprocessing.image import ImageDataGenerator\n",
        "import matplotlib.pyplot as plt"
      ],
      "metadata": {
        "id": "-q59VDCkE1Sb"
      },
      "execution_count": null,
      "outputs": []
    },
    {
      "cell_type": "markdown",
      "source": [
        "# Load the CIFAR-10 dataset"
      ],
      "metadata": {
        "id": "j2vO8lWUHDPh"
      }
    },
    {
      "cell_type": "code",
      "source": [
        "(train_images, train_labels), (test_images, test_labels) = datasets.cifar10.load_data()"
      ],
      "metadata": {
        "id": "DsDbQ6-sE4rv"
      },
      "execution_count": null,
      "outputs": []
    },
    {
      "cell_type": "markdown",
      "source": [
        "# Normalize the pixel values to be between 0 and 1"
      ],
      "metadata": {
        "id": "51tc0OmDHKD3"
      }
    },
    {
      "cell_type": "code",
      "source": [
        "train_images, test_images = train_images / 255.0, test_images / 255.0"
      ],
      "metadata": {
        "id": "rRCHEdwoE-RZ"
      },
      "execution_count": null,
      "outputs": []
    },
    {
      "cell_type": "markdown",
      "source": [
        "# Sample images from the dataset"
      ],
      "metadata": {
        "id": "3yvlJ-VDHUon"
      }
    },
    {
      "cell_type": "code",
      "source": [
        "class_names = ['airplane', 'automobile', 'bird', 'cat', 'deer', 'dog', 'frog', 'horse', 'ship', 'truck']\n",
        "\n",
        "plt.figure(figsize=(10,10))\n",
        "for i in range(16):\n",
        "    plt.subplot(4, 4, i+1)\n",
        "    plt.xticks([])\n",
        "    plt.yticks([])\n",
        "    plt.grid(False)\n",
        "    plt.imshow(train_images[i])\n",
        "    plt.xlabel(class_names[train_labels[i][0]])\n",
        "plt.show()"
      ],
      "metadata": {
        "id": "00TnOvcNFFwI"
      },
      "execution_count": null,
      "outputs": []
    },
    {
      "cell_type": "markdown",
      "source": [
        "# Data Augmentation"
      ],
      "metadata": {
        "id": "wde2HKkzHaG3"
      }
    },
    {
      "cell_type": "code",
      "source": [
        "datagen = ImageDataGenerator(\n",
        "    rotation_range=15,       # Rotate images up to 15 degrees\n",
        "    width_shift_range=0.1,   # Shift images horizontally\n",
        "    height_shift_range=0.1,  # Shift images vertically\n",
        "    horizontal_flip=True     # Randomly flip images horizontally\n",
        ")"
      ],
      "metadata": {
        "id": "QN897kSPFRER"
      },
      "execution_count": null,
      "outputs": []
    },
    {
      "cell_type": "markdown",
      "source": [
        "# Build the Convolutional Neural Network (CNN)"
      ],
      "metadata": {
        "id": "Hki2m1kWHqkV"
      }
    },
    {
      "cell_type": "code",
      "source": [
        "model = models.Sequential()"
      ],
      "metadata": {
        "id": "66bgEH0MFSP_"
      },
      "execution_count": null,
      "outputs": []
    },
    {
      "cell_type": "markdown",
      "source": [
        "# First convolutional layer"
      ],
      "metadata": {
        "id": "FRXCJy2BHzBy"
      }
    },
    {
      "cell_type": "code",
      "source": [
        "model.add(layers.Conv2D(32, (3, 3), activation='relu', input_shape=(32, 32, 3)))\n",
        "model.add(layers.MaxPooling2D((2, 2)))\n"
      ],
      "metadata": {
        "id": "Amwi_UtTFWDE"
      },
      "execution_count": null,
      "outputs": []
    },
    {
      "cell_type": "markdown",
      "source": [
        "# Second convolutional layer"
      ],
      "metadata": {
        "id": "ArxRlX0QH2NU"
      }
    },
    {
      "cell_type": "code",
      "source": [
        "model.add(layers.Conv2D(64, (3, 3), activation='relu'))\n",
        "model.add(layers.MaxPooling2D((2, 2)))"
      ],
      "metadata": {
        "id": "ntHtCFTqFbZv"
      },
      "execution_count": null,
      "outputs": []
    },
    {
      "cell_type": "markdown",
      "source": [
        "\n",
        "# Third convolutional layer"
      ],
      "metadata": {
        "id": "jJ4bsf0hH7iF"
      }
    },
    {
      "cell_type": "code",
      "source": [
        "model.add(layers.Conv2D(64, (3, 3), activation='relu'))\n",
        "model.add(layers.MaxPooling2D((2, 2)))"
      ],
      "metadata": {
        "id": "gaw9fnSxFdSf"
      },
      "execution_count": null,
      "outputs": []
    },
    {
      "cell_type": "markdown",
      "source": [
        "# Flatten the output and add fully connected layers"
      ],
      "metadata": {
        "id": "XZalRhZdIGZF"
      }
    },
    {
      "cell_type": "code",
      "source": [
        "model.add(layers.Flatten())\n",
        "model.add(layers.Dense(64, activation='relu'))\n",
        "model.add(layers.Dropout(0.5))  # Dropout to prevent overfitting\n",
        "model.add(layers.Dense(10))     # 10 output units for 10 classes"
      ],
      "metadata": {
        "id": "7ruPyeiNFhZf"
      },
      "execution_count": null,
      "outputs": []
    },
    {
      "cell_type": "markdown",
      "source": [
        "# Compile the Model"
      ],
      "metadata": {
        "id": "felgeyr0IJgX"
      }
    },
    {
      "cell_type": "code",
      "source": [
        "model.compile(optimizer='adam',\n",
        "              loss=tf.keras.losses.SparseCategoricalCrossentropy(from_logits=True),\n",
        "              metrics=['accuracy'])"
      ],
      "metadata": {
        "id": "HLrs0VTqFjWn"
      },
      "execution_count": null,
      "outputs": []
    },
    {
      "cell_type": "markdown",
      "source": [
        "# Train the Model"
      ],
      "metadata": {
        "id": "Q-o1-HloITuQ"
      }
    },
    {
      "cell_type": "code",
      "source": [
        "history = model.fit(datagen.flow(train_images, train_labels, batch_size=64),\n",
        "                    epochs=15,\n",
        "                    validation_data=(test_images, test_labels))\n"
      ],
      "metadata": {
        "id": "a_xpjkIqFllw"
      },
      "execution_count": null,
      "outputs": []
    },
    {
      "cell_type": "markdown",
      "source": [
        "# Evaluate the Model"
      ],
      "metadata": {
        "id": "ZS4C9dtEIau0"
      }
    },
    {
      "cell_type": "code",
      "source": [
        "test_loss, test_acc = model.evaluate(test_images, test_labels, verbose=2)\n",
        "print(f'Test accuracy: {test_acc:.4f}')"
      ],
      "metadata": {
        "id": "szxYh59fFqbp"
      },
      "execution_count": null,
      "outputs": []
    },
    {
      "cell_type": "markdown",
      "source": [
        "# Plot the Training and Validation Accuracy"
      ],
      "metadata": {
        "id": "PT7sh5zYIi0j"
      }
    },
    {
      "cell_type": "code",
      "source": [
        "plt.plot(history.history['accuracy'], label='Training Accuracy')\n",
        "plt.plot(history.history['val_accuracy'], label='Validation Accuracy')\n",
        "plt.xlabel('Epochs')\n",
        "plt.ylabel('Accuracy')\n",
        "plt.legend(loc='lower right')\n",
        "plt.title('Training and Validation Accuracy')\n",
        "plt.show()\n"
      ],
      "metadata": {
        "id": "XG87tgEiF0hN"
      },
      "execution_count": null,
      "outputs": []
    },
    {
      "cell_type": "markdown",
      "source": [
        "# Model Fine-tuning"
      ],
      "metadata": {
        "id": "KiCFDwaVF_rb"
      }
    },
    {
      "cell_type": "code",
      "source": [
        "from tensorflow.keras.callbacks import EarlyStopping"
      ],
      "metadata": {
        "id": "i0Sots0_F2bg"
      },
      "execution_count": null,
      "outputs": []
    },
    {
      "cell_type": "markdown",
      "source": [
        "\n",
        "# Early stopping to stop training when the model starts overfitting"
      ],
      "metadata": {
        "id": "J_Q-boLYIyh_"
      }
    },
    {
      "cell_type": "code",
      "source": [
        "early_stopping = EarlyStopping(monitor='val_loss', patience=3)"
      ],
      "metadata": {
        "id": "4rGM_42eGJ6E"
      },
      "execution_count": null,
      "outputs": []
    },
    {
      "cell_type": "markdown",
      "source": [
        "# Re-train the model with early stopping"
      ],
      "metadata": {
        "id": "_ObkT--ZI7vd"
      }
    },
    {
      "cell_type": "code",
      "source": [
        "history = model.fit(datagen.flow(train_images, train_labels, batch_size=64),\n",
        "                    epochs=50,\n",
        "                    validation_data=(test_images, test_labels),\n",
        "                    callbacks=[early_stopping])"
      ],
      "metadata": {
        "id": "V6JNlrkTGN8Y"
      },
      "execution_count": null,
      "outputs": []
    },
    {
      "cell_type": "markdown",
      "source": [
        "# Evaluate again"
      ],
      "metadata": {
        "id": "DqS_uE4wI-N4"
      }
    },
    {
      "cell_type": "code",
      "source": [
        "test_loss, test_acc = model.evaluate(test_images, test_labels, verbose=2)\n",
        "print(f'Test accuracy after fine-tuning: {test_acc:.4f}')"
      ],
      "metadata": {
        "id": "XOuiYFJWGRa0"
      },
      "execution_count": null,
      "outputs": []
    }
  ],
  "metadata": {
    "colab": {
      "provenance": []
    },
    "kernelspec": {
      "display_name": "Python 3",
      "name": "python3"
    },
    "language_info": {
      "name": "python"
    }
  },
  "nbformat": 4,
  "nbformat_minor": 0
}