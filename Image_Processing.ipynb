{
  "nbformat": 4,
  "nbformat_minor": 0,
  "metadata": {
    "colab": {
      "provenance": []
    },
    "kernelspec": {
      "name": "python3",
      "display_name": "Python 3"
    },
    "language_info": {
      "name": "python"
    }
  },
  "cells": [
    {
      "cell_type": "markdown",
      "source": [
        "# PROJECT BY: **SYEDA UMAIMA TAMKEEN**\n",
        "\n",
        "__________________________________________________________________________________________________________________________________________________________________________________\n",
        "\n",
        "# **Project Title: Image Processing Tasks using OpenCV**\n",
        "\n",
        "**Summary:**\n",
        "In this project, various image processing techniques were applied to an image using OpenCV. The tasks ranged from basic operations like gray-scaling, image translation, and rotation to more complex ones such as edge detection using the Canny algorithm and applying Gaussian blur. The goal of the project was to understand and implement essential image processing functions and visualize their effects on the images.\n",
        "\n",
        "> **Key Steps:**\n",
        "\n",
        "### **1. Gray-scaling and Color Channel Separation:**\n",
        "\n",
        "- Converted a colored image to grayscale using `cv2.cvtColor()`.\n",
        "- Separated the image into red, green, and blue color channels using `cv2.split()`.\n",
        "- Visualized the grayscale image and the individual color channels using Matplotlib.\n",
        "\n",
        "**Code Summary:**\n",
        "Used OpenCV’s `cvtColor` for gray-scaling and `split` to separate color channels, displaying the results using Matplotlib.\n",
        "\n",
        "### **2. Image Translation:**\n",
        "\n",
        "- Shifted the image along the x-axis (100 pixels) and y-axis (50 pixels) using a translation matrix.\n",
        "- Applied the translation matrix to the image using `cv2.warpAffine()`.\n",
        "\n",
        "**Code Summary:**\n",
        "Implemented image translation using the transformation matrix and OpenCV’s `warpAffine()`.\n",
        "\n",
        "### **3. Image Rotation:**\n",
        "\n",
        "- Rotated the image by 90, 180, 270, and 360 degrees.\n",
        "- Used `cv2.getRotationMatrix2D()` to compute the rotation matrix and `cv2.warpAffine()` to apply the rotations.\n",
        "\n",
        "**Code Summary:**\n",
        "Rotated the image by various angles and visualized the results using Matplotlib.\n",
        "\n",
        "### **4. Scaling and Resizing:**\n",
        "\n",
        "- Scaled the image to 15% of its original size using linear interpolation.\n",
        "- Enlarged the image to twice its original size using cubic interpolation.\n",
        "- Resized the image to a specific size (200x400 pixels) using area interpolation.\n",
        "\n",
        "**Code Summary:**\n",
        "Resized and scaled the image using different interpolation methods, displaying the results side by side.\n",
        "\n",
        "### **5. Gaussian Blur:**\n",
        "\n",
        "- Applied a Gaussian blur to the image with a kernel size of (15, 15) using `cv2.GaussianBlur()`.\n",
        "\n",
        "**Code Summary:**\n",
        "Blurring was achieved using OpenCV’s Gaussian Blur function to reduce noise and smooth the image.\n",
        "\n",
        "### **6. Adjusting Brightness and Contrast:**\n",
        "\n",
        "- Adjusted the brightness and contrast of the image using `cv2.convertScaleAbs()`, with alpha (contrast control) set to 1.5 and beta (brightness control) set to 50.\n",
        "\n",
        "**Code Summary:**\n",
        "Brightness and contrast adjustments were made using OpenCV’s `convertScaleAbs()` to achieve desired image enhancement.\n",
        "\n",
        "### **7. Cropping the Image:**\n",
        "\n",
        "- Cropped a specific region (starting at [50, 50] with dimensions 200x200) from the image using array slicing.\n",
        "\n",
        "**Code Summary:**\n",
        "The image was successfully cropped using numpy slicing, and the result was displayed using Matplotlib.\n",
        "\n",
        "### **8. Drawing a Circle on the Image:**\n",
        "\n",
        "- Drew a circle on the center of the image with a radius of 50 pixels and green color, using `cv2.circle()`.\n",
        "\n",
        "**Code Summary:**\n",
        "A green circle was drawn at the center of the image using OpenCV’s `circle()` function, with the result visualized using Matplotlib.\n",
        "\n",
        "### **9. Canny Edge Detection:**\n",
        "\n",
        "- Applied Canny edge detection to the image using `cv2.Canny()` with threshold values 100 and 200 to detect edges.\n",
        "\n",
        "**Code Summary:**\n",
        "Edges were successfully detected using the Canny algorithm, with the results displayed in grayscale.\n",
        "\n",
        "### **10. Smart Surveillance System (Image Processing Pipeline):**\n",
        "\n",
        "- Implemented a combination of image enhancement, Gaussian blur, and Canny edge detection to process images for a surveillance system.\n",
        "\n",
        "**Code Summary:**\n",
        "A pipeline of image processing techniques was applied, combining contrast/brightness adjustment, Gaussian blur, and Canny edge detection, and visualized the final results.\n",
        "\n",
        "### **11. Histogram Analysis:**\n",
        "\n",
        "- Computed and visualized histograms for the grayscale, blue, and green channels of the image.\n",
        "\n",
        "**Code Summary:**\n",
        "Histograms for grayscale and individual color channels were plotted using OpenCV’s `calcHist()` function and Matplotlib.\n",
        "\n",
        "### **12. Linear Spatial Filtering:**\n",
        "\n",
        "- Applied a Sobel filter to detect edges using `cv2.filter2D()` and a custom edge-detection kernel.\n",
        "\n",
        "**Code Summary:**\n",
        "Sobel edge detection was performed using `filter2D()` to highlight the edges in the image.\n",
        "\n",
        "> **Results:**\n",
        "\n",
        "The project successfully implemented a range of image processing techniques, including:\n",
        "- Gray-scaling and color separation.\n",
        "- Image translation and rotation.\n",
        "- Image scaling, resizing, and Gaussian blurring.\n",
        "- Edge detection using the Canny algorithm.\n",
        "- Histogram analysis and linear filtering using Sobel edge detection.\n",
        "\n",
        "The visualizations provided a clear understanding of the impact of these techniques on the images.\n",
        "\n",
        "> **Conclusion:**\n",
        "\n",
        "This project demonstrates the practical application of image processing techniques using OpenCV. Each task illustrated a fundamental operation in computer vision, laying the groundwork for more advanced applications such as image classification, object detection, and smart surveillance systems. The successful implementation of these techniques shows the robustness of OpenCV as a tool for real-world image processing tasks.\n"
      ],
      "metadata": {
        "id": "WVaojxMlhB_u"
      }
    },
    {
      "cell_type": "markdown",
      "source": [
        "**Task 1: Gray-scaling and Color Channel Separation in OpenCV**"
      ],
      "metadata": {
        "id": "bqWX8QFId2BN"
      }
    },
    {
      "cell_type": "code",
      "source": [
        "import cv2\n",
        "import matplotlib.pyplot as plt\n",
        "\n",
        "image = cv2.imread('/content/sample_data/parrot.jpg')\n",
        "\n",
        "gray_image = cv2.cvtColor(image, cv2.COLOR_BGR2GRAY)\n",
        "\n",
        "blue_channel, green_channel, red_channel = cv2.split(image)\n",
        "\n",
        "fig, ax = plt.subplots(1, 4, figsize=(20, 5))\n",
        "\n",
        "ax[0].imshow(cv2.cvtColor(image, cv2.COLOR_BGR2RGB))\n",
        "ax[0].set_title(\"Original Image\")\n",
        "\n",
        "ax[1].imshow(gray_image, cmap='gray')\n",
        "ax[1].set_title(\"Grayscale Image\")\n",
        "\n",
        "ax[2].imshow(red_channel, cmap='Reds')\n",
        "ax[2].set_title(\"Red Channel\")\n",
        "\n",
        "ax[3].imshow(green_channel, cmap='Greens')\n",
        "ax[3].set_title(\"Green Channel\")\n",
        "\n",
        "plt.tight_layout()\n",
        "plt.show()\n"
      ],
      "metadata": {
        "id": "chzM0INedl6d"
      },
      "execution_count": null,
      "outputs": []
    },
    {
      "cell_type": "markdown",
      "source": [
        "Task 2: Image **Translation**"
      ],
      "metadata": {
        "id": "_GAlxOeOeAnk"
      }
    },
    {
      "cell_type": "code",
      "source": [
        "import numpy as np\n",
        "\n",
        "translation_matrix = np.float32([[1, 0, 100], [0, 1, 50]])\n",
        "\n",
        "rows, cols = image.shape[:2]\n",
        "\n",
        "\n",
        "translated_image = cv2.warpAffine(image, translation_matrix, (cols, rows))\n",
        "\n",
        "plt.imshow(cv2.cvtColor(translated_image, cv2.COLOR_BGR2RGB))\n",
        "plt.axis('off')\n",
        "plt.title('Translated Image')\n",
        "plt.show()\n"
      ],
      "metadata": {
        "id": "3CZ8DG56a1z0"
      },
      "execution_count": null,
      "outputs": []
    },
    {
      "cell_type": "markdown",
      "source": [
        "**Task 3: Image Rotation**"
      ],
      "metadata": {
        "id": "4EQEP4AdeVXu"
      }
    },
    {
      "cell_type": "code",
      "source": [
        "\n",
        "center = (cols // 2, rows // 2)\n",
        "\n",
        "angles = [90, 180, 270, 360]\n",
        "rotated_images = []\n",
        "\n",
        "for angle in angles:\n",
        "    rotation_matrix = cv2.getRotationMatrix2D(center, angle, 1)\n",
        "    rotated_image = cv2.warpAffine(image, rotation_matrix, (cols, rows))\n",
        "    rotated_images.append(rotated_image)\n",
        "\n",
        "fig, ax = plt.subplots(1, 4, figsize=(20, 5))\n",
        "for i, angle in enumerate(angles):\n",
        "    ax[i].imshow(cv2.cvtColor(rotated_images[i], cv2.COLOR_BGR2RGB))\n",
        "    ax[i].set_title(f'Rotated by {angle} degrees')\n",
        "    ax[i].axis('off')\n",
        "\n",
        "plt.tight_layout()\n",
        "plt.show()\n"
      ],
      "metadata": {
        "id": "b4Z3MgAwbFVE"
      },
      "execution_count": null,
      "outputs": []
    },
    {
      "cell_type": "markdown",
      "source": [
        "**Task 4: Scaling and Resizing using OpenCV**"
      ],
      "metadata": {
        "id": "1sHatXLHeYtU"
      }
    },
    {
      "cell_type": "code",
      "source": [
        "scaled_image = cv2.resize(image, None, fx=0.15, fy=0.15, interpolation=cv2.INTER_LINEAR)\n",
        "\n",
        "enlarged_image = cv2.resize(image, None, fx=2, fy=2, interpolation=cv2.INTER_CUBIC)\n",
        "\n",
        "resized_image = cv2.resize(image, (200, 400), interpolation=cv2.INTER_AREA)\n",
        "\n",
        "fig, ax = plt.subplots(1, 3, figsize=(15, 5))\n",
        "\n",
        "ax[0].imshow(cv2.cvtColor(scaled_image, cv2.COLOR_BGR2RGB))\n",
        "ax[0].set_title(\"Scaled to 15% (Linear)\")\n",
        "\n",
        "ax[1].imshow(cv2.cvtColor(enlarged_image, cv2.COLOR_BGR2RGB))\n",
        "ax[1].set_title(\"Enlarged 2x (Cubic)\")\n",
        "\n",
        "ax[2].imshow(cv2.cvtColor(resized_image, cv2.COLOR_BGR2RGB))\n",
        "ax[2].set_title(\"Resized to 200x400 (Area)\")\n",
        "\n",
        "plt.tight_layout()\n",
        "plt.show()\n"
      ],
      "metadata": {
        "id": "jTJChVKzdzKN"
      },
      "execution_count": null,
      "outputs": []
    },
    {
      "cell_type": "markdown",
      "source": [
        "**Task 5: Image Blur using OpenCV**"
      ],
      "metadata": {
        "id": "CuKfHLqzegd8"
      }
    },
    {
      "cell_type": "code",
      "source": [
        "blurred_image = cv2.GaussianBlur(image, (15, 15), 0)\n",
        "\n",
        "plt.imshow(cv2.cvtColor(blurred_image, cv2.COLOR_BGR2RGB))\n",
        "plt.axis('off')\n",
        "plt.title('Blurred Image')\n",
        "plt.show()\n"
      ],
      "metadata": {
        "id": "SSQ2KwrAbMKk"
      },
      "execution_count": null,
      "outputs": []
    },
    {
      "cell_type": "markdown",
      "source": [
        "**Task 6: Adjust Image Brightness and Contrast in OpenCV**"
      ],
      "metadata": {
        "id": "XQFU89dGemYq"
      }
    },
    {
      "cell_type": "code",
      "source": [
        "image_float = np.float32(image)\n",
        "\n",
        "alpha = 1.5\n",
        "beta = 50\n",
        "\n",
        "\n",
        "adjusted_image = cv2.convertScaleAbs(image_float, alpha=alpha, beta=beta)\n",
        "\n",
        "adjusted_image_rgb = cv2.cvtColor(adjusted_image, cv2.COLOR_BGR2RGB)\n",
        "\n",
        "plt.imshow(adjusted_image_rgb)\n",
        "plt.axis('off')\n",
        "plt.title('Adjusted Brightness and Contrast')\n",
        "plt.show()\n"
      ],
      "metadata": {
        "id": "aeR01f0zbPjj"
      },
      "execution_count": null,
      "outputs": []
    },
    {
      "cell_type": "markdown",
      "source": [
        "**Task 7: Crop a Specific Region of an Image in OpenCV**"
      ],
      "metadata": {
        "id": "MTdy03WHesCE"
      }
    },
    {
      "cell_type": "code",
      "source": [
        "startX, startY = 50, 50\n",
        "width, height = 200, 200\n",
        "\n",
        "cropped_image = image[startY:startY + height, startX:startX + width]\n",
        "\n",
        "cropped_image_rgb = cv2.cvtColor(cropped_image, cv2.COLOR_BGR2RGB)\n",
        "\n",
        "plt.imshow(cropped_image_rgb)\n",
        "plt.axis('off')\n",
        "plt.title('Cropped Image')\n",
        "plt.show()\n"
      ],
      "metadata": {
        "id": "n5b6FsAWbSFj"
      },
      "execution_count": null,
      "outputs": []
    },
    {
      "cell_type": "markdown",
      "source": [
        "**Task 8: Draw a Circle on an Image in OpenCV**"
      ],
      "metadata": {
        "id": "ntIJ205rexyc"
      }
    },
    {
      "cell_type": "code",
      "source": [
        "rows, cols = image.shape[:2]\n",
        "center = (cols // 2, rows // 2)\n",
        "\n",
        "circle_image = image.copy()\n",
        "cv2.circle(circle_image, center, 50, (0, 255, 0), thickness=5)\n",
        "\n",
        "\n",
        "circle_image_rgb = cv2.cvtColor(circle_image, cv2.COLOR_BGR2RGB)\n",
        "\n",
        "plt.imshow(circle_image_rgb)\n",
        "plt.axis('off')\n",
        "plt.title('Circle on Image')\n",
        "plt.show()\n"
      ],
      "metadata": {
        "id": "brFO1exJbU9i"
      },
      "execution_count": null,
      "outputs": []
    },
    {
      "cell_type": "markdown",
      "source": [
        "**Task 9: Apply Canny Edge Detection in OpenCV**"
      ],
      "metadata": {
        "id": "HKDvcV7Ke3Us"
      }
    },
    {
      "cell_type": "code",
      "source": [
        "gray_image = cv2.cvtColor(image, cv2.COLOR_BGR2GRAY)\n",
        "\n",
        "edges = cv2.Canny(gray_image, 100, 200)\n",
        "\n",
        "\n",
        "plt.imshow(edges, cmap='gray')\n",
        "plt.axis('off')\n",
        "plt.title('Edges Detected using Canny')\n",
        "plt.show()\n"
      ],
      "metadata": {
        "id": "RW0EjyFabXna"
      },
      "execution_count": null,
      "outputs": []
    },
    {
      "cell_type": "markdown",
      "source": [
        "**Task 10: Image Processing Application for Smart Surveillance System**"
      ],
      "metadata": {
        "id": "UgajXXJre9hH"
      }
    },
    {
      "cell_type": "code",
      "source": [
        "enhanced_image = cv2.convertScaleAbs(image, alpha=1.5, beta=50)\n",
        "\n",
        "\n",
        "blurred_image = cv2.GaussianBlur(enhanced_image, (15, 15), 0)\n",
        "\n",
        "\n",
        "gray_image = cv2.cvtColor(blurred_image, cv2.COLOR_BGR2GRAY)\n",
        "edges = cv2.Canny(gray_image, 100, 200)\n",
        "\n",
        "fig, ax = plt.subplots(1, 3, figsize=(20, 5))\n",
        "\n",
        "ax[0].imshow(cv2.cvtColor(enhanced_image, cv2.COLOR_BGR2RGB))\n",
        "ax[0].set_title('Enhanced Image')\n",
        "\n",
        "ax[1].imshow(cv2.cvtColor(blurred_image, cv2.COLOR_BGR2RGB))\n",
        "ax[1].set_title('Blurred Image')\n",
        "\n",
        "ax[2].imshow(edges, cmap='gray')\n",
        "ax[2].set_title('Edge Detection')\n",
        "\n",
        "plt.tight_layout()\n",
        "plt.show()\n"
      ],
      "metadata": {
        "id": "PQf09yagbaR0"
      },
      "execution_count": null,
      "outputs": []
    },
    {
      "cell_type": "markdown",
      "source": [
        "**Task 11: Analyze and Visualize Image Histograms**"
      ],
      "metadata": {
        "id": "1JfQcJtzfDYR"
      }
    },
    {
      "cell_type": "code",
      "source": [
        "gray_image = cv2.cvtColor(image, cv2.COLOR_BGR2GRAY)\n",
        "\n",
        "hist_gray = cv2.calcHist([gray_image], [0], None, [256], [0, 256])\n",
        "hist_blue = cv2.calcHist([image], [0], None, [256], [0, 256])\n",
        "hist_green = cv2.calcHist([image], [1], None, [256], [0, 256])\n",
        "\n",
        "\n",
        "fig, ax = plt.subplots(2, 3, figsize=(18, 10))\n",
        "\n",
        "ax[0, 0].imshow(gray_image, cmap='gray')\n",
        "ax[0, 0].set_title('Grayscale Image')\n",
        "ax[0, 0].axis('off')\n",
        "\n",
        "ax[0, 1].imshow(cv2.cvtColor(image, cv2.COLOR_BGR2RGB))\n",
        "ax[0, 1].set_title('Original Image')\n",
        "ax[0, 1].axis('off')\n",
        "\n",
        "ax[0, 2].axis('off')\n",
        "\n",
        "ax[1, 0].plot(hist_gray, color='black')\n",
        "ax[1, 0].set_title('Grayscale Histogram')\n",
        "\n",
        "ax[1, 1].plot(hist_blue, color='blue')\n",
        "ax[1, 1].set_title('Blue Channel Histogram')\n",
        "\n",
        "ax[1, 2].plot(hist_green, color='green')\n",
        "ax[1, 2].set_title('Green Channel Histogram')\n",
        "\n",
        "plt.tight_layout()\n",
        "plt.show()\n"
      ],
      "metadata": {
        "id": "vU14LZUkbeAC"
      },
      "execution_count": null,
      "outputs": []
    },
    {
      "cell_type": "markdown",
      "source": [
        "Task 12: Linear Spatial Filtering"
      ],
      "metadata": {
        "id": "ApmT8M0IfJ3Y"
      }
    },
    {
      "cell_type": "code",
      "source": [
        "sobel_kernel = np.array([[-1, 0, 1],\n",
        "                         [-2, 0, 2],\n",
        "                         [-1, 0, 1]])\n",
        "\n",
        "sobel_filtered_image = cv2.filter2D(image, -1, sobel_kernel)\n",
        "\n",
        "\n",
        "fig, ax = plt.subplots(1, 2, figsize=(12, 6))\n",
        "\n",
        "ax[0].imshow(cv2.cvtColor(image, cv2.COLOR_BGR2RGB))\n",
        "ax[0].set_title('Original Image')\n",
        "ax[0].axis('off')\n",
        "\n",
        "ax[1].imshow(cv2.cvtColor(sobel_filtered_image, cv2.COLOR_BGR2RGB))\n",
        "ax[1].set_title('Sobel Filter Applied')\n",
        "ax[1].axis('off')\n",
        "\n",
        "plt.tight_layout()\n",
        "plt.show()\n"
      ],
      "metadata": {
        "id": "lGwERqPxbhFm"
      },
      "execution_count": null,
      "outputs": []
    }
  ]
}